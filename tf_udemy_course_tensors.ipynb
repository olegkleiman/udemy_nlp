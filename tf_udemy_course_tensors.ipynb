{
  "nbformat": 4,
  "nbformat_minor": 0,
  "metadata": {
    "colab": {
      "provenance": []
    },
    "kernelspec": {
      "name": "python3",
      "display_name": "Python 3"
    },
    "language_info": {
      "name": "python"
    }
  },
  "cells": [
    {
      "cell_type": "code",
      "execution_count": 92,
      "metadata": {
        "colab": {
          "base_uri": "https://localhost:8080/"
        },
        "id": "FA8uMXZaWcBV",
        "outputId": "36f0ec38-8b4e-4a45-a505-b6f57a9118cc"
      },
      "outputs": [
        {
          "output_type": "stream",
          "name": "stdout",
          "text": [
            "1D-tensor: tf.Tensor([2. 3. 4.], shape=(3,), dtype=float32)\n",
            "Shape is the length (number of elements) of each of the axes of a tensor.\n",
            "tf.Tensor(\n",
            "[[ 1.  2.  3.]\n",
            " [ 3.  5. -1.]], shape=(2, 3), dtype=float16)\n",
            "Shape of 2d-tensor:  (2, 3)\n",
            "Tensor:  tf.Tensor([ 6. 16.], shape=(2,), dtype=float64)\n"
          ]
        },
        {
          "output_type": "execute_result",
          "data": {
            "text/plain": [
              "<tf.Tensor: shape=(), dtype=string, numpy=b'One Two'>"
            ]
          },
          "metadata": {},
          "execution_count": 92
        }
      ],
      "source": [
        "import tensorflow as tf\n",
        "\n",
        "tensor_1d = tf.constant([2,3,4.])\n",
        "print(\"1D-tensor:\", tensor_1d)\n",
        "\n",
        "tensor_2d = tf.constant([\n",
        "    [1,2,3.],\n",
        "    [3,5,-1]\n",
        "    ], tf.float16)\n",
        "print(\"Shape is the length (number of elements) of each of the axes of a tensor.\")\n",
        "print(tensor_2d)\n",
        "print(\"Shape of 2d-tensor: \", tensor_2d.shape)\n",
        "\n",
        "tensor_3d = tf.constant([\n",
        "    [[18,2,3],\n",
        "    [4,5,6]],\n",
        "    [[11,12,13],\n",
        "    [14,15,16.0]],\n",
        "    ], tf.float64)\n",
        "#tensor_2d = tensor_3d[0]\n",
        "#print(tensor_3d)\n",
        "#print(\"Tensor as np array: \", tensor_3d.numpy())\n",
        "\n",
        "#print(\"Max element: \", tf.reduce_max(tensor_3d))\n",
        "#print(\"Index of max element: \", tf.math.argmax(tensor_3d))\n",
        "print(\"Tensor: \", tensor_3d[:,1,2]);\n",
        "#print(\"Softmax: \", tf.argmax(tensor_2d[0]))\n",
        "\n",
        "string_tensor = tf.constant([\"One\", \"Two\"])\n",
        "tf.strings.join(string_tensor, separator=\" \")\n"
      ]
    },
    {
      "cell_type": "markdown",
      "source": [
        "Casted tensors"
      ],
      "metadata": {
        "id": "J-Vamkl1qpwj"
      }
    },
    {
      "cell_type": "code",
      "source": [
        "import tensorflow as tf\n",
        "\n",
        "tensor = tf.constant([1,0,3.])\n",
        "tf.cast(tensor, dtype=tf.bool)"
      ],
      "metadata": {
        "colab": {
          "base_uri": "https://localhost:8080/"
        },
        "id": "np-n6_FbqxMx",
        "outputId": "a1c56118-722b-4138-c120-8396e109e334"
      },
      "execution_count": 53,
      "outputs": [
        {
          "output_type": "execute_result",
          "data": {
            "text/plain": [
              "<tf.Tensor: shape=(3,), dtype=bool, numpy=array([ True, False,  True])>"
            ]
          },
          "metadata": {},
          "execution_count": 53
        }
      ]
    },
    {
      "cell_type": "markdown",
      "source": [
        "Ragged Arrays"
      ],
      "metadata": {
        "id": "S7_Nfw1js5CM"
      }
    },
    {
      "cell_type": "code",
      "source": [
        "rt=tf.ragged.constant([\n",
        " [3, 1, 4, 1],\n",
        " [],\n",
        " [5, 9, 2],\n",
        " [6],\n",
        " []\n",
        " ])\n",
        "print(rt, rt.shape)"
      ],
      "metadata": {
        "colab": {
          "base_uri": "https://localhost:8080/"
        },
        "id": "nkVpssgbs8O3",
        "outputId": "ce3dd5d5-a39d-4e52-eed0-1d2cb718bdbe"
      },
      "execution_count": 18,
      "outputs": [
        {
          "output_type": "stream",
          "name": "stdout",
          "text": [
            "<tf.RaggedTensor [[3, 1, 4, 1], [], [5, 9, 2], [6], []]> (5, None)\n"
          ]
        }
      ]
    },
    {
      "cell_type": "markdown",
      "source": [
        "Sparse Tensors"
      ],
      "metadata": {
        "id": "4n9mTIP7uVV8"
      }
    },
    {
      "cell_type": "code",
      "source": [
        "st1 = tf.sparse.SparseTensor(indices=[[0, 3], [2, 4]],\n",
        "                      values=[10, 20],\n",
        "                      dense_shape=[3, 10])\n",
        "print(st1)"
      ],
      "metadata": {
        "colab": {
          "base_uri": "https://localhost:8080/"
        },
        "id": "G8ejyI8OuXrm",
        "outputId": "d5d20931-1dec-4fe6-9207-00512ef434dd"
      },
      "execution_count": 19,
      "outputs": [
        {
          "output_type": "stream",
          "name": "stdout",
          "text": [
            "SparseTensor(indices=tf.Tensor(\n",
            "[[0 3]\n",
            " [2 4]], shape=(2, 2), dtype=int64), values=tf.Tensor([10 20], shape=(2,), dtype=int32), dense_shape=tf.Tensor([ 3 10], shape=(2,), dtype=int64))\n"
          ]
        }
      ]
    },
    {
      "cell_type": "markdown",
      "source": [
        "Eye (Identity) tensor"
      ],
      "metadata": {
        "id": "dMGPflAY4i3f"
      }
    },
    {
      "cell_type": "code",
      "source": [
        "eye_tensor = tf.eye(num_rows=3,\n",
        "                    num_columns=None,\n",
        "                    batch_shape=None,\n",
        "                    dtype=tf.float16,\n",
        "                    name=None)\n",
        "print(3*eye_tensor)\n",
        "\n",
        "tf.fill([2,3], 5)\n"
      ],
      "metadata": {
        "colab": {
          "base_uri": "https://localhost:8080/"
        },
        "id": "45JZpGkI4now",
        "outputId": "1ea9ee70-3aa7-4db0-e2da-3744088c7bb6"
      },
      "execution_count": 63,
      "outputs": [
        {
          "output_type": "stream",
          "name": "stdout",
          "text": [
            "tf.Tensor(\n",
            "[[3. 0. 0.]\n",
            " [0. 3. 0.]\n",
            " [0. 0. 3.]], shape=(3, 3), dtype=float16)\n"
          ]
        },
        {
          "output_type": "execute_result",
          "data": {
            "text/plain": [
              "<tf.Tensor: shape=(2, 3), dtype=int32, numpy=\n",
              "array([[5, 5, 5],\n",
              "       [5, 5, 5]], dtype=int32)>"
            ]
          },
          "metadata": {},
          "execution_count": 63
        }
      ]
    },
    {
      "cell_type": "markdown",
      "source": [
        "Tensors can be initialized from NumPy arrays"
      ],
      "metadata": {
        "id": "tuQQ8eqvZuej"
      }
    },
    {
      "cell_type": "code",
      "source": [
        "import tensorflow as tf\n",
        "import numpy as np\n",
        "a2D = np.array([[1,2,3,4], [5,6.,7,8 ]])\n",
        "tensor_2d = tf.constant(a2D, tf.float32)\n",
        "print(tensor_2d)\n",
        "print(tf.convert_to_tensor(a2D))\n"
      ],
      "metadata": {
        "colab": {
          "base_uri": "https://localhost:8080/"
        },
        "id": "4t47X7vHZ52p",
        "outputId": "c9b39b22-5643-43b5-f9a3-77356a22586a"
      },
      "execution_count": 21,
      "outputs": [
        {
          "output_type": "stream",
          "name": "stdout",
          "text": [
            "tf.Tensor(\n",
            "[[1. 2. 3. 4.]\n",
            " [5. 6. 7. 8.]], shape=(2, 4), dtype=float32)\n",
            "tf.Tensor(\n",
            "[[1. 2. 3. 4.]\n",
            " [5. 6. 7. 8.]], shape=(2, 4), dtype=float64)\n"
          ]
        }
      ]
    },
    {
      "cell_type": "markdown",
      "source": [
        "Broadcating"
      ],
      "metadata": {
        "id": "4WEgJLMO0i1z"
      }
    },
    {
      "cell_type": "code",
      "source": [
        "import tensorflow as tf\n",
        "import numpy as np\n",
        "\n",
        "M = np.ones((2, 3))\n",
        "a = np.arange(3)\n",
        "print(M, a)\n"
      ],
      "metadata": {
        "colab": {
          "base_uri": "https://localhost:8080/"
        },
        "id": "wF4UHpFn0lSD",
        "outputId": "473f647f-53fc-49ee-98f6-4a1bf692d306"
      },
      "execution_count": 2,
      "outputs": [
        {
          "output_type": "stream",
          "name": "stdout",
          "text": [
            "[[1. 1. 1.]\n",
            " [1. 1. 1.]] [0 1 2]\n"
          ]
        }
      ]
    },
    {
      "cell_type": "markdown",
      "source": [
        "Algebraic operations"
      ],
      "metadata": {
        "id": "rn40Wj2bb0jq"
      }
    },
    {
      "cell_type": "code",
      "source": [
        "import tensorflow as tf\n",
        "\n",
        "with tf.device('GPU:0'):\n",
        "  # mat1 = tf.constant([\n",
        "  #     [1,2,3],\n",
        "  #     [3,-2,4]\n",
        "  #     ], tf.float32)\n",
        "  mat1 = tf.constant([1.,2,3,3,-2,4], shape=(2,3))\n",
        "  print(mat1)\n",
        "  # mat2 = tf.constant([\n",
        "  #     [1.], [2], [-2]\n",
        "  # ], tf.float32)\n",
        "  mat2 = tf.Variable([\n",
        "      [1., 2,-2]\n",
        "  ], tf.float32)\n",
        "  print(mat2)\n",
        "  mat3 = tf.matmul(mat1, mat2, transpose_a=False,transpose_b=True)\n",
        "  print(mat3)\n",
        "\n"
      ],
      "metadata": {
        "colab": {
          "base_uri": "https://localhost:8080/"
        },
        "id": "nkg25TPob3uJ",
        "outputId": "26b7ebb8-31c0-479d-edf4-11e9c8b8bb54"
      },
      "execution_count": 93,
      "outputs": [
        {
          "output_type": "stream",
          "name": "stdout",
          "text": [
            "tf.Tensor(\n",
            "[[ 1.  2.  3.]\n",
            " [ 3. -2.  4.]], shape=(2, 3), dtype=float32)\n",
            "<tf.Variable 'Variable:0' shape=(1, 3) dtype=float32, numpy=array([[ 1.,  2., -2.]], dtype=float32)>\n",
            "tf.Tensor(\n",
            "[[-1.]\n",
            " [-9.]], shape=(2, 1), dtype=float32)\n"
          ]
        }
      ]
    },
    {
      "cell_type": "markdown",
      "source": [
        "Operations"
      ],
      "metadata": {
        "id": "MZuP7nBPy5uf"
      }
    },
    {
      "cell_type": "code",
      "source": [
        "import tensorflow as tf\n",
        "\n",
        "mat = tf.constant([1,2,3])\n",
        "print(mat)\n",
        "mat_exp = tf.expand_dims(mat, axis=0)\n",
        "print(mat_exp)"
      ],
      "metadata": {
        "colab": {
          "base_uri": "https://localhost:8080/"
        },
        "id": "YpySKLNRy7Gr",
        "outputId": "57a930a4-88ce-49ec-e52c-32a59418192a"
      },
      "execution_count": 89,
      "outputs": [
        {
          "output_type": "stream",
          "name": "stdout",
          "text": [
            "tf.Tensor([1 2 3], shape=(3,), dtype=int32)\n",
            "tf.Tensor([[1 2 3]], shape=(1, 3), dtype=int32)\n"
          ]
        }
      ]
    },
    {
      "cell_type": "markdown",
      "source": [
        "Variables"
      ],
      "metadata": {
        "id": "justgXa1zsNt"
      }
    },
    {
      "cell_type": "code",
      "source": [
        "tf.debugging.set_log_device_placement(True)\n",
        "\n",
        "try:\n",
        "  tf.Variable([1,2,3], name=\"Mark\")\n",
        "except Exception as e:\n",
        "  print(f\"{type(e).__name__}: {e}\")"
      ],
      "metadata": {
        "id": "nSTHwAqVzt0W"
      },
      "execution_count": 85,
      "outputs": []
    }
  ]
}